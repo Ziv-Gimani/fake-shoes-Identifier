{
 "cells": [
  {
   "cell_type": "code",
   "execution_count": 1,
   "metadata": {
    "Collapsed": "false"
   },
   "outputs": [],
   "source": [
    "from IPython.display import Markdown, Latex\n",
    "from IPython.display import clear_output\n",
    "from fastai.vision.all import *\n",
    "from fastai.vision.widgets import *\n",
    "import warnings\n",
    "warnings.filterwarnings('ignore')"
   ]
  },
  {
   "cell_type": "markdown",
   "metadata": {
    "Collapsed": "false"
   },
   "source": [
    "# The fake detection shoe system"
   ]
  },
  {
   "cell_type": "markdown",
   "metadata": {
    "Collapsed": "false"
   },
   "source": [
    "### Halo dear Sneakerheads, your about to meet the very first app that will check for you if the shoes are Original or Fufu!"
   ]
  },
  {
   "cell_type": "markdown",
   "metadata": {
    "Collapsed": "false"
   },
   "source": [
    "\n",
    "From today you do not have to hesitate. Artificial intelligence will decide for you!\n"
   ]
  },
  {
   "cell_type": "markdown",
   "metadata": {},
   "source": [
    "\n",
    "1. Take a direct picture of the shoe\n",
    "2. Click on Upload button\n",
    "3. Choose the picture you want to evaluate \n",
    "4. Wait for the results"
   ]
  },
  {
   "cell_type": "markdown",
   "metadata": {
    "Collapsed": "false"
   },
   "source": [
    "#### The system is based on two steps. \n",
    "\n",
    "In the first step the model will identify the shoe model (now 5 models are supported, [555088-402, 555088-105, DD1399-101, 555088-109, 861428-061]).\n",
    "\n",
    "In the second step the system will run a fake detection model for the detected shoe model and display the results"
   ]
  },
  {
   "cell_type": "markdown",
   "metadata": {
    "Collapsed": "false"
   },
   "source": [
    "Try it now!"
   ]
  },
  {
   "cell_type": "code",
   "execution_count": 2,
   "metadata": {
    "Collapsed": "false"
   },
   "outputs": [],
   "source": [
    "#for windows:\n",
    "#import pathlib\n",
    "#temp = pathlib.PosixPath\n",
    "#pathlib.PosixPath = pathlib.WindowsPath"
   ]
  },
  {
   "cell_type": "code",
   "execution_count": 3,
   "metadata": {
    "Collapsed": "false"
   },
   "outputs": [],
   "source": [
    "path = Path()\n",
    "\n",
    "learn_type_shoe = load_learner(path/'model_type_shoe.pkl', cpu=True)\n",
    "learn_555088_402 = load_learner(path/'model_fake_real_555088-402.pkl', cpu=True)\n",
    "learn_555088_105 = load_learner(path/'model_fake_real_555088-105.pkl', cpu=True)\n",
    "\n",
    "btn_upload = widgets.FileUpload()\n",
    "out_pl = widgets.Output()\n",
    "lbl_pred = widgets.Label()\n",
    "out = Output()\n",
    "threshold = 0.6"
   ]
  },
  {
   "cell_type": "code",
   "execution_count": 4,
   "metadata": {
    "Collapsed": "false"
   },
   "outputs": [],
   "source": [
    "def on_data_change(change):\n",
    "    \n",
    "    def action_by_shoe_model(shoe_type):\n",
    "        \n",
    "        if shoe_type == '555088-105':\n",
    "            return learn_555088_105.predict(img)\n",
    "        if shoe_type == '555088-402':\n",
    "            return learn_555088_402.predict(img)\n",
    "        if shoe_type == '555088-109':\n",
    "            return ('Real', 0, [1.000, 0.000])\n",
    "        if shoe_type == '861428-061':\n",
    "            return ('Real', 0, [1.000, 0.000])\n",
    "        if shoe_type == 'DD1399-101':\n",
    "            return ('Fake', 0, [1.000, 0.000])\n",
    "        \n",
    "    lbl_pred.value = ''\n",
    "    img = PILImage.create(btn_upload.data[-1])\n",
    "    out_pl.clear_output()\n",
    "    \n",
    "    with out_pl: \n",
    "        \n",
    "        display(img.to_thumb(128,128))\n",
    "        pred, pred_idx, probs = learn_type_shoe.predict(img)\n",
    "        \n",
    "        if probs[pred_idx]>threshold:\n",
    "            display(Markdown(f'## Shoe detected. model: {pred}'))\n",
    "            display(Markdown(f'Prediction: {pred} | Probability: {probs[pred_idx]:.03f}'))\n",
    "            display(Markdown(f'running fake detection modle for shoe model: {pred}...'))\n",
    "            pred2, pred_idx2, probs2 = action_by_shoe_model(pred)\n",
    "            display(Markdown(f'## Prediction : {pred2} Shoe!'))\n",
    "            display(Markdown(f'Prediction: {pred2} | Probability: {probs2[pred_idx2]:.03f}'))\n",
    "                \n",
    "        else:\n",
    "            out_pl.clear_output()\n",
    "            display(img.to_thumb(128,128))\n",
    "            display(Markdown(f'## No shoe detected'))\n",
    "            display(Markdown('The model can only identify Johnson shoes [555088-402, 555088-105, DD1399-101, 555088-109, 861428-061] models'))"
   ]
  },
  {
   "cell_type": "code",
   "execution_count": 5,
   "metadata": {
    "Collapsed": "false"
   },
   "outputs": [],
   "source": [
    "btn_upload.observe(on_data_change, names=['data'])"
   ]
  },
  {
   "cell_type": "code",
   "execution_count": 6,
   "metadata": {
    "Collapsed": "false"
   },
   "outputs": [
    {
     "data": {
      "application/vnd.jupyter.widget-view+json": {
       "model_id": "f50eae7f5d8a492daab71c3283eadf7e",
       "version_major": 2,
       "version_minor": 0
      },
      "text/plain": [
       "VBox(children=(Label(value='Select your Shoe!'), FileUpload(value={}, description='Upload'), Output(), Label(v…"
      ]
     },
     "metadata": {},
     "output_type": "display_data"
    }
   ],
   "source": [
    "display(VBox([widgets.Label('Select your Shoe!'), btn_upload, out_pl, lbl_pred]))"
   ]
  },
  {
   "cell_type": "markdown",
   "metadata": {
    "Collapsed": "false"
   },
   "source": [
    "##### The project created for a final project upervised by Benny\n",
    "\n",
    "- Moshiko\n",
    "- Ziv "
   ]
  }
 ],
 "metadata": {
  "jupytext": {
   "split_at_heading": true,
   "text_representation": {
    "extension": ".py",
    "format_name": "percent",
    "format_version": "1.3",
    "jupytext_version": "1.13.0"
   }
  },
  "kernelspec": {
   "display_name": "tensorflow",
   "language": "python",
   "name": "tensorflow"
  },
  "language_info": {
   "codemirror_mode": {
    "name": "ipython",
    "version": 3
   },
   "file_extension": ".py",
   "mimetype": "text/x-python",
   "name": "python",
   "nbconvert_exporter": "python",
   "pygments_lexer": "ipython3",
   "version": "3.8.1"
  },
  "toc": {
   "base_numbering": 1,
   "nav_menu": {},
   "number_sections": false,
   "sideBar": true,
   "skip_h1_title": true,
   "title_cell": "Table of Contents",
   "title_sidebar": "Contents",
   "toc_cell": false,
   "toc_position": {},
   "toc_section_display": true,
   "toc_window_display": false
  },
  "widgets": {
   "application/vnd.jupyter.widget-state+json": {
    "state": {
     "317b82c4879d453ca3b26cf19bbd39af": {
      "model_module": "@jupyter-widgets/base",
      "model_module_version": "1.2.0",
      "model_name": "LayoutModel",
      "state": {}
     },
     "372e64544a36450fbaf21000f1134bd3": {
      "model_module": "@jupyter-widgets/base",
      "model_module_version": "1.2.0",
      "model_name": "LayoutModel",
      "state": {}
     },
     "4e6f16c8e7014e06aa35e153f16bd5d0": {
      "model_module": "@jupyter-widgets/controls",
      "model_module_version": "1.5.0",
      "model_name": "FileUploadModel",
      "state": {
       "description_tooltip": null,
       "layout": "IPY_MODEL_874cd895cad142d3921ef77bb55d16a1",
       "style": "IPY_MODEL_4efeed7f8d374fe1b69b514db528cf46"
      }
     },
     "4efeed7f8d374fe1b69b514db528cf46": {
      "model_module": "@jupyter-widgets/controls",
      "model_module_version": "1.5.0",
      "model_name": "ButtonStyleModel",
      "state": {}
     },
     "5fd79ad6d4fd418da94bf8687027061a": {
      "model_module": "@jupyter-widgets/controls",
      "model_module_version": "1.5.0",
      "model_name": "DescriptionStyleModel",
      "state": {
       "description_width": ""
      }
     },
     "68b16d17d04f4a9a9071eb8460b62d57": {
      "model_module": "@jupyter-widgets/controls",
      "model_module_version": "1.5.0",
      "model_name": "LabelModel",
      "state": {
       "layout": "IPY_MODEL_ef922ff2602b4cdf88f611ad8cadfa39",
       "style": "IPY_MODEL_5fd79ad6d4fd418da94bf8687027061a"
      }
     },
     "874cd895cad142d3921ef77bb55d16a1": {
      "model_module": "@jupyter-widgets/base",
      "model_module_version": "1.2.0",
      "model_name": "LayoutModel",
      "state": {}
     },
     "a9e7f7df5fc846b092900b4fc25479ab": {
      "model_module": "@jupyter-widgets/base",
      "model_module_version": "1.2.0",
      "model_name": "LayoutModel",
      "state": {}
     },
     "c43fa68673fa484487f4c736d2fe6114": {
      "model_module": "@jupyter-widgets/output",
      "model_module_version": "1.0.0",
      "model_name": "OutputModel",
      "state": {
       "layout": "IPY_MODEL_c8d2dea2e04e4a8fbff833cebb8fb4c3"
      }
     },
     "c8d2dea2e04e4a8fbff833cebb8fb4c3": {
      "model_module": "@jupyter-widgets/base",
      "model_module_version": "1.2.0",
      "model_name": "LayoutModel",
      "state": {}
     },
     "d326fea8575446e5a899680840233050": {
      "model_module": "@jupyter-widgets/controls",
      "model_module_version": "1.5.0",
      "model_name": "LabelModel",
      "state": {
       "layout": "IPY_MODEL_a9e7f7df5fc846b092900b4fc25479ab",
       "style": "IPY_MODEL_e51d705cac8f4f498e4446c0d2698f72",
       "value": "Select your Shoe!"
      }
     },
     "da7b04340595485186e11b27bb428413": {
      "model_module": "@jupyter-widgets/output",
      "model_module_version": "1.0.0",
      "model_name": "OutputModel",
      "state": {
       "layout": "IPY_MODEL_372e64544a36450fbaf21000f1134bd3"
      }
     },
     "e51d705cac8f4f498e4446c0d2698f72": {
      "model_module": "@jupyter-widgets/controls",
      "model_module_version": "1.5.0",
      "model_name": "DescriptionStyleModel",
      "state": {
       "description_width": ""
      }
     },
     "ef922ff2602b4cdf88f611ad8cadfa39": {
      "model_module": "@jupyter-widgets/base",
      "model_module_version": "1.2.0",
      "model_name": "LayoutModel",
      "state": {}
     },
     "f50eae7f5d8a492daab71c3283eadf7e": {
      "model_module": "@jupyter-widgets/controls",
      "model_module_version": "1.5.0",
      "model_name": "VBoxModel",
      "state": {
       "children": [
        "IPY_MODEL_d326fea8575446e5a899680840233050",
        "IPY_MODEL_4e6f16c8e7014e06aa35e153f16bd5d0",
        "IPY_MODEL_c43fa68673fa484487f4c736d2fe6114",
        "IPY_MODEL_68b16d17d04f4a9a9071eb8460b62d57"
       ],
       "layout": "IPY_MODEL_317b82c4879d453ca3b26cf19bbd39af"
      }
     }
    },
    "version_major": 2,
    "version_minor": 0
   }
  }
 },
 "nbformat": 4,
 "nbformat_minor": 4
}
